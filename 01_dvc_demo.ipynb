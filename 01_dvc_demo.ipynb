{
 "cells": [
  {
   "attachments": {},
   "cell_type": "markdown",
   "metadata": {},
   "source": [
    "# Demo of DVC\n",
    "\n",
    "Getting started video: https://youtu.be/kLKBcPonMYw"
   ]
  },
  {
   "cell_type": "code",
   "execution_count": 1,
   "metadata": {},
   "outputs": [],
   "source": [
    "import dvc\n",
    "import json\n",
    "import pandas as pd\n",
    "\n",
    "from cryptography.fernet import Fernet"
   ]
  },
  {
   "attachments": {},
   "cell_type": "markdown",
   "metadata": {},
   "source": [
    "## Import data path and decryption key json as a dictionary"
   ]
  },
  {
   "cell_type": "code",
   "execution_count": 2,
   "metadata": {},
   "outputs": [
    {
     "data": {
      "text/plain": [
       "{'file_path': 'gdrive://1GQ3CiuUXWaRM3N1SQmJ_Es9A8GiwJY_S',\n",
       " 'decryption_key': '3AN4JXo0Gy2fWmU7szc6tkbUicR_P6AKkA5t5wEezqo='}"
      ]
     },
     "execution_count": 2,
     "metadata": {},
     "output_type": "execute_result"
    }
   ],
   "source": [
    "# Open the JSON file for reading\n",
    "with open('paths.json', 'r') as file:\n",
    "    # Load the JSON data from the file\n",
    "    paths = json.load(file)\n",
    "\n",
    "paths"
   ]
  },
  {
   "attachments": {},
   "cell_type": "markdown",
   "metadata": {},
   "source": [
    "## Load data"
   ]
  },
  {
   "cell_type": "code",
   "execution_count": 4,
   "metadata": {},
   "outputs": [
    {
     "data": {
      "text/html": [
       "<div>\n",
       "<style scoped>\n",
       "    .dataframe tbody tr th:only-of-type {\n",
       "        vertical-align: middle;\n",
       "    }\n",
       "\n",
       "    .dataframe tbody tr th {\n",
       "        vertical-align: top;\n",
       "    }\n",
       "\n",
       "    .dataframe thead th {\n",
       "        text-align: right;\n",
       "    }\n",
       "</style>\n",
       "<table border=\"1\" class=\"dataframe\">\n",
       "  <thead>\n",
       "    <tr style=\"text-align: right;\">\n",
       "      <th></th>\n",
       "      <th>Name</th>\n",
       "      <th>Quality</th>\n",
       "    </tr>\n",
       "  </thead>\n",
       "  <tbody>\n",
       "    <tr>\n",
       "      <th>0</th>\n",
       "      <td>Mike</td>\n",
       "      <td>25</td>\n",
       "    </tr>\n",
       "    <tr>\n",
       "      <th>1</th>\n",
       "      <td>Anna</td>\n",
       "      <td>100</td>\n",
       "    </tr>\n",
       "    <tr>\n",
       "      <th>2</th>\n",
       "      <td>Kerry</td>\n",
       "      <td>100</td>\n",
       "    </tr>\n",
       "    <tr>\n",
       "      <th>3</th>\n",
       "      <td>Amy</td>\n",
       "      <td>100</td>\n",
       "    </tr>\n",
       "    <tr>\n",
       "      <th>4</th>\n",
       "      <td>Ken</td>\n",
       "      <td>75</td>\n",
       "    </tr>\n",
       "    <tr>\n",
       "      <th>5</th>\n",
       "      <td>Tom</td>\n",
       "      <td>25</td>\n",
       "    </tr>\n",
       "  </tbody>\n",
       "</table>\n",
       "</div>"
      ],
      "text/plain": [
       "    Name  Quality\n",
       "0   Mike       25\n",
       "1   Anna      100\n",
       "2  Kerry      100\n",
       "3    Amy      100\n",
       "4    Ken       75\n",
       "5    Tom       25"
      ]
     },
     "execution_count": 4,
     "metadata": {},
     "output_type": "execute_result"
    }
   ],
   "source": [
    "data = pd.read_csv('./data/data.csv')\n",
    "data"
   ]
  },
  {
   "attachments": {},
   "cell_type": "markdown",
   "metadata": {},
   "source": [
    "## Encrypt data"
   ]
  },
  {
   "cell_type": "code",
   "execution_count": 4,
   "metadata": {},
   "outputs": [],
   "source": [
    "# To generate a new key (save this to json file when first setting up encyption)\n",
    "# key = Fernet.generate_key()\n",
    "# key"
   ]
  },
  {
   "cell_type": "code",
   "execution_count": 5,
   "metadata": {},
   "outputs": [],
   "source": [
    "key = paths['decryption_key']\n",
    "f = Fernet(key)"
   ]
  },
  {
   "cell_type": "code",
   "execution_count": 6,
   "metadata": {},
   "outputs": [],
   "source": [
    "# encrypt the dataframe\n",
    "encrypted_data = data.applymap(lambda x: f.encrypt(str(x).encode()))"
   ]
  },
  {
   "cell_type": "code",
   "execution_count": 7,
   "metadata": {},
   "outputs": [
    {
     "data": {
      "text/html": [
       "<div>\n",
       "<style scoped>\n",
       "    .dataframe tbody tr th:only-of-type {\n",
       "        vertical-align: middle;\n",
       "    }\n",
       "\n",
       "    .dataframe tbody tr th {\n",
       "        vertical-align: top;\n",
       "    }\n",
       "\n",
       "    .dataframe thead th {\n",
       "        text-align: right;\n",
       "    }\n",
       "</style>\n",
       "<table border=\"1\" class=\"dataframe\">\n",
       "  <thead>\n",
       "    <tr style=\"text-align: right;\">\n",
       "      <th></th>\n",
       "      <th>Name</th>\n",
       "      <th>Quality</th>\n",
       "    </tr>\n",
       "  </thead>\n",
       "  <tbody>\n",
       "    <tr>\n",
       "      <th>0</th>\n",
       "      <td>b'gAAAAABkbfBK8QDYfD3wDjhcpECheYwJ6CjxynSepro_...</td>\n",
       "      <td>b'gAAAAABkbfBKtn_XW8Uiz1BeXD6B6TX9a1XQc9zLG9dZ...</td>\n",
       "    </tr>\n",
       "    <tr>\n",
       "      <th>1</th>\n",
       "      <td>b'gAAAAABkbfBKNvXQrDNJIMZL4XP9o16iteHX22WhY9Ih...</td>\n",
       "      <td>b'gAAAAABkbfBKMnEQFRUkxnjKS82p4KUwWHTK39rXICt4...</td>\n",
       "    </tr>\n",
       "    <tr>\n",
       "      <th>2</th>\n",
       "      <td>b'gAAAAABkbfBKEcjmsO0J7ZR5TLLAvtkGaBaCep2bVtIc...</td>\n",
       "      <td>b'gAAAAABkbfBKUxuChu7j2aXr0Bx_taf26GcFdRUKQkLQ...</td>\n",
       "    </tr>\n",
       "    <tr>\n",
       "      <th>3</th>\n",
       "      <td>b'gAAAAABkbfBKuz9IaCLFWJW_vhs7NbPycy7QnORHghIV...</td>\n",
       "      <td>b'gAAAAABkbfBK-N279aktvLhK2PfkaR9jptWNYfSj1MVy...</td>\n",
       "    </tr>\n",
       "  </tbody>\n",
       "</table>\n",
       "</div>"
      ],
      "text/plain": [
       "                                                Name  \\\n",
       "0  b'gAAAAABkbfBK8QDYfD3wDjhcpECheYwJ6CjxynSepro_...   \n",
       "1  b'gAAAAABkbfBKNvXQrDNJIMZL4XP9o16iteHX22WhY9Ih...   \n",
       "2  b'gAAAAABkbfBKEcjmsO0J7ZR5TLLAvtkGaBaCep2bVtIc...   \n",
       "3  b'gAAAAABkbfBKuz9IaCLFWJW_vhs7NbPycy7QnORHghIV...   \n",
       "\n",
       "                                             Quality  \n",
       "0  b'gAAAAABkbfBKtn_XW8Uiz1BeXD6B6TX9a1XQc9zLG9dZ...  \n",
       "1  b'gAAAAABkbfBKMnEQFRUkxnjKS82p4KUwWHTK39rXICt4...  \n",
       "2  b'gAAAAABkbfBKUxuChu7j2aXr0Bx_taf26GcFdRUKQkLQ...  \n",
       "3  b'gAAAAABkbfBK-N279aktvLhK2PfkaR9jptWNYfSj1MVy...  "
      ]
     },
     "execution_count": 7,
     "metadata": {},
     "output_type": "execute_result"
    }
   ],
   "source": [
    "encrypted_data"
   ]
  },
  {
   "cell_type": "code",
   "execution_count": 8,
   "metadata": {},
   "outputs": [],
   "source": [
    "encrypted_data.to_csv('./data/encrypted_data.csv', index=False)"
   ]
  },
  {
   "attachments": {},
   "cell_type": "markdown",
   "metadata": {},
   "source": [
    "## Track with Git"
   ]
  },
  {
   "attachments": {},
   "cell_type": "markdown",
   "metadata": {},
   "source": [
    "Run these commands from terminal\n",
    "\n",
    "`dvc init` # If DVC trtacking has not been set up\n",
    "\n",
    "`dvc add ./data/encrypted_data.csv`\n",
    "\n",
    "`git add data/encrypted_data.csv.dvc`\n",
    "\n",
    "`git commit -m \"Update DVC tracking\"`"
   ]
  },
  {
   "attachments": {},
   "cell_type": "markdown",
   "metadata": {},
   "source": [
    "## Add remote storage location\n",
    "\n",
    "From terminal\n",
    "\n",
    "Take location from paths['file_path]\n",
    "\n",
    "`dvc remote add -f -d storage gdrive://1GQ3CiuUXWaRM3N1SQmJ_Es9A8GiwJY_S`\n",
    "\n",
    "`git commit -m \"Add remote storage\"`"
   ]
  },
  {
   "attachments": {},
   "cell_type": "markdown",
   "metadata": {},
   "source": [
    "Push data changes up to remote\n",
    "\n",
    "`dvc push`"
   ]
  },
  {
   "attachments": {},
   "cell_type": "markdown",
   "metadata": {},
   "source": []
  }
 ],
 "metadata": {
  "kernelspec": {
   "display_name": "dvc",
   "language": "python",
   "name": "python3"
  },
  "language_info": {
   "codemirror_mode": {
    "name": "ipython",
    "version": 3
   },
   "file_extension": ".py",
   "mimetype": "text/x-python",
   "name": "python",
   "nbconvert_exporter": "python",
   "pygments_lexer": "ipython3",
   "version": "3.10.11"
  },
  "orig_nbformat": 4
 },
 "nbformat": 4,
 "nbformat_minor": 2
}
