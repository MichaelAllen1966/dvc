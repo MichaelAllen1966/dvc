{
 "cells": [
  {
   "attachments": {},
   "cell_type": "markdown",
   "metadata": {},
   "source": [
    "# Demo of DVC\n",
    "\n",
    "Getting started video: https://youtu.be/kLKBcPonMYw"
   ]
  },
  {
   "cell_type": "code",
   "execution_count": 1,
   "metadata": {},
   "outputs": [],
   "source": [
    "import dvc\n",
    "import json\n",
    "import pandas as pd\n",
    "\n",
    "from cryptography.fernet import Fernet"
   ]
  },
  {
   "attachments": {},
   "cell_type": "markdown",
   "metadata": {},
   "source": [
    "## Import data path and decryption key json as a dictionary"
   ]
  },
  {
   "cell_type": "code",
   "execution_count": 2,
   "metadata": {},
   "outputs": [
    {
     "data": {
      "text/plain": [
       "{'file_path': 'gdrive://1GQ3CiuUXWaRM3N1SQmJ_Es9A8GiwJY_S',\n",
       " 'decryption_key': '3AN4JXo0Gy2fWmU7szc6tkbUicR_P6AKkA5t5wEezqo='}"
      ]
     },
     "execution_count": 2,
     "metadata": {},
     "output_type": "execute_result"
    }
   ],
   "source": [
    "# Open the JSON file for reading\n",
    "with open('paths.json', 'r') as file:\n",
    "    # Load the JSON data from the file\n",
    "    paths = json.load(file)\n",
    "\n",
    "paths"
   ]
  },
  {
   "attachments": {},
   "cell_type": "markdown",
   "metadata": {},
   "source": [
    "## Load data"
   ]
  },
  {
   "cell_type": "code",
   "execution_count": 3,
   "metadata": {},
   "outputs": [
    {
     "data": {
      "text/html": [
       "<div>\n",
       "<style scoped>\n",
       "    .dataframe tbody tr th:only-of-type {\n",
       "        vertical-align: middle;\n",
       "    }\n",
       "\n",
       "    .dataframe tbody tr th {\n",
       "        vertical-align: top;\n",
       "    }\n",
       "\n",
       "    .dataframe thead th {\n",
       "        text-align: right;\n",
       "    }\n",
       "</style>\n",
       "<table border=\"1\" class=\"dataframe\">\n",
       "  <thead>\n",
       "    <tr style=\"text-align: right;\">\n",
       "      <th></th>\n",
       "      <th>Name</th>\n",
       "      <th>Quality</th>\n",
       "    </tr>\n",
       "  </thead>\n",
       "  <tbody>\n",
       "    <tr>\n",
       "      <th>0</th>\n",
       "      <td>Mike</td>\n",
       "      <td>25</td>\n",
       "    </tr>\n",
       "    <tr>\n",
       "      <th>1</th>\n",
       "      <td>Anna</td>\n",
       "      <td>100</td>\n",
       "    </tr>\n",
       "    <tr>\n",
       "      <th>2</th>\n",
       "      <td>Kerry</td>\n",
       "      <td>100</td>\n",
       "    </tr>\n",
       "    <tr>\n",
       "      <th>3</th>\n",
       "      <td>Amy</td>\n",
       "      <td>100</td>\n",
       "    </tr>\n",
       "    <tr>\n",
       "      <th>4</th>\n",
       "      <td>Ken</td>\n",
       "      <td>75</td>\n",
       "    </tr>\n",
       "    <tr>\n",
       "      <th>5</th>\n",
       "      <td>Tom</td>\n",
       "      <td>25</td>\n",
       "    </tr>\n",
       "  </tbody>\n",
       "</table>\n",
       "</div>"
      ],
      "text/plain": [
       "    Name  Quality\n",
       "0   Mike       25\n",
       "1   Anna      100\n",
       "2  Kerry      100\n",
       "3    Amy      100\n",
       "4    Ken       75\n",
       "5    Tom       25"
      ]
     },
     "execution_count": 3,
     "metadata": {},
     "output_type": "execute_result"
    }
   ],
   "source": [
    "data = pd.read_csv('./data/data.csv')\n",
    "data"
   ]
  },
  {
   "attachments": {},
   "cell_type": "markdown",
   "metadata": {},
   "source": [
    "## Encrypt data"
   ]
  },
  {
   "cell_type": "code",
   "execution_count": 4,
   "metadata": {},
   "outputs": [],
   "source": [
    "# To generate a new key (save this to json file when first setting up encyption)\n",
    "# key = Fernet.generate_key()\n",
    "# key"
   ]
  },
  {
   "cell_type": "code",
   "execution_count": 5,
   "metadata": {},
   "outputs": [],
   "source": [
    "key = paths['decryption_key']\n",
    "f = Fernet(key)"
   ]
  },
  {
   "cell_type": "code",
   "execution_count": 6,
   "metadata": {},
   "outputs": [],
   "source": [
    "# encrypt the dataframe\n",
    "encrypted_data = data.applymap(lambda x: f.encrypt(str(x).encode()))"
   ]
  },
  {
   "cell_type": "code",
   "execution_count": 7,
   "metadata": {},
   "outputs": [
    {
     "data": {
      "text/html": [
       "<div>\n",
       "<style scoped>\n",
       "    .dataframe tbody tr th:only-of-type {\n",
       "        vertical-align: middle;\n",
       "    }\n",
       "\n",
       "    .dataframe tbody tr th {\n",
       "        vertical-align: top;\n",
       "    }\n",
       "\n",
       "    .dataframe thead th {\n",
       "        text-align: right;\n",
       "    }\n",
       "</style>\n",
       "<table border=\"1\" class=\"dataframe\">\n",
       "  <thead>\n",
       "    <tr style=\"text-align: right;\">\n",
       "      <th></th>\n",
       "      <th>Name</th>\n",
       "      <th>Quality</th>\n",
       "    </tr>\n",
       "  </thead>\n",
       "  <tbody>\n",
       "    <tr>\n",
       "      <th>0</th>\n",
       "      <td>b'gAAAAABkbiHJGPH71qP8hd7fhKDwtC_uwFFNfs1TW9V_...</td>\n",
       "      <td>b'gAAAAABkbiHJZQkK5rcpkTHL-i51cU3suPj-VGv8Tu6D...</td>\n",
       "    </tr>\n",
       "    <tr>\n",
       "      <th>1</th>\n",
       "      <td>b'gAAAAABkbiHJM341kJsWbtRyGj_-eWkTNFp1G9RkMkBb...</td>\n",
       "      <td>b'gAAAAABkbiHJX2Z0ZQJY7M5FAuH2QCAulsmYDqkeTTKY...</td>\n",
       "    </tr>\n",
       "    <tr>\n",
       "      <th>2</th>\n",
       "      <td>b'gAAAAABkbiHJaYFVgL2OLhe5Nk8_7Er80M_EgCHz8Y7M...</td>\n",
       "      <td>b'gAAAAABkbiHJuFAG3b1LDHMbC6T0IgWG0NSoKgUagDHG...</td>\n",
       "    </tr>\n",
       "    <tr>\n",
       "      <th>3</th>\n",
       "      <td>b'gAAAAABkbiHJy2aXzgtX2xYq8D_Rn4AWB3H7_KcrI6eD...</td>\n",
       "      <td>b'gAAAAABkbiHJ__a--3QNuLqi6l1Krx4hBpEAosTDAYVb...</td>\n",
       "    </tr>\n",
       "    <tr>\n",
       "      <th>4</th>\n",
       "      <td>b'gAAAAABkbiHJtitnLlzZwHmGh4QWtJihZzFwzsWnL3Ui...</td>\n",
       "      <td>b'gAAAAABkbiHJ-CXtY0ca4dBbGMXFUBMV13VR_0nES79c...</td>\n",
       "    </tr>\n",
       "    <tr>\n",
       "      <th>5</th>\n",
       "      <td>b'gAAAAABkbiHJ4w9y_wGDVSZjDu56cR920LQALUqd0rhx...</td>\n",
       "      <td>b'gAAAAABkbiHJy40eH-ctEW52_764LMxO4ctB935rhd5d...</td>\n",
       "    </tr>\n",
       "  </tbody>\n",
       "</table>\n",
       "</div>"
      ],
      "text/plain": [
       "                                                Name  \\\n",
       "0  b'gAAAAABkbiHJGPH71qP8hd7fhKDwtC_uwFFNfs1TW9V_...   \n",
       "1  b'gAAAAABkbiHJM341kJsWbtRyGj_-eWkTNFp1G9RkMkBb...   \n",
       "2  b'gAAAAABkbiHJaYFVgL2OLhe5Nk8_7Er80M_EgCHz8Y7M...   \n",
       "3  b'gAAAAABkbiHJy2aXzgtX2xYq8D_Rn4AWB3H7_KcrI6eD...   \n",
       "4  b'gAAAAABkbiHJtitnLlzZwHmGh4QWtJihZzFwzsWnL3Ui...   \n",
       "5  b'gAAAAABkbiHJ4w9y_wGDVSZjDu56cR920LQALUqd0rhx...   \n",
       "\n",
       "                                             Quality  \n",
       "0  b'gAAAAABkbiHJZQkK5rcpkTHL-i51cU3suPj-VGv8Tu6D...  \n",
       "1  b'gAAAAABkbiHJX2Z0ZQJY7M5FAuH2QCAulsmYDqkeTTKY...  \n",
       "2  b'gAAAAABkbiHJuFAG3b1LDHMbC6T0IgWG0NSoKgUagDHG...  \n",
       "3  b'gAAAAABkbiHJ__a--3QNuLqi6l1Krx4hBpEAosTDAYVb...  \n",
       "4  b'gAAAAABkbiHJ-CXtY0ca4dBbGMXFUBMV13VR_0nES79c...  \n",
       "5  b'gAAAAABkbiHJy40eH-ctEW52_764LMxO4ctB935rhd5d...  "
      ]
     },
     "execution_count": 7,
     "metadata": {},
     "output_type": "execute_result"
    }
   ],
   "source": [
    "encrypted_data"
   ]
  },
  {
   "cell_type": "code",
   "execution_count": 8,
   "metadata": {},
   "outputs": [],
   "source": [
    "encrypted_data.to_csv('./data/encrypted_data.csv', index=False)"
   ]
  },
  {
   "attachments": {},
   "cell_type": "markdown",
   "metadata": {},
   "source": [
    "## Track with Git"
   ]
  },
  {
   "attachments": {},
   "cell_type": "markdown",
   "metadata": {},
   "source": [
    "Run these commands from terminal\n",
    "\n",
    "`dvc init` # If DVC trtacking has not been set up\n",
    "\n",
    "`dvc add ./data/encrypted_data.csv`\n",
    "\n",
    "`git add data/encrypted_data.csv.dvc`\n",
    "\n",
    "`git commit -m \"Update DVC tracking\"`"
   ]
  },
  {
   "attachments": {},
   "cell_type": "markdown",
   "metadata": {},
   "source": [
    "## Add remote storage location\n",
    "\n",
    "From terminal\n",
    "\n",
    "Take location from paths['file_path]\n",
    "\n",
    "`dvc remote add -f -d storage gdrive://1GQ3CiuUXWaRM3N1SQmJ_Es9A8GiwJY_S`\n",
    "\n",
    "`git commit -m \"Add remote storage\"`"
   ]
  },
  {
   "attachments": {},
   "cell_type": "markdown",
   "metadata": {},
   "source": [
    "Push data changes up to remote\n",
    "\n",
    "`dvc push`"
   ]
  },
  {
   "attachments": {},
   "cell_type": "markdown",
   "metadata": {},
   "source": [
    "sudo snap install google-cloud-cli --classic\n",
    "\n",
    "\n",
    "gcloud auth application-default login\n",
    "\n",
    "dvc remote add -d myremote gs://penchord-dvc-test/test\n"
   ]
  },
  {
   "cell_type": "code",
   "execution_count": null,
   "metadata": {},
   "outputs": [],
   "source": []
  },
  {
   "cell_type": "code",
   "execution_count": null,
   "metadata": {},
   "outputs": [],
   "source": []
  },
  {
   "cell_type": "code",
   "execution_count": null,
   "metadata": {},
   "outputs": [],
   "source": []
  }
 ],
 "metadata": {
  "kernelspec": {
   "display_name": "dvc",
   "language": "python",
   "name": "python3"
  },
  "language_info": {
   "codemirror_mode": {
    "name": "ipython",
    "version": 3
   },
   "file_extension": ".py",
   "mimetype": "text/x-python",
   "name": "python",
   "nbconvert_exporter": "python",
   "pygments_lexer": "ipython3",
   "version": "3.10.11"
  },
  "orig_nbformat": 4
 },
 "nbformat": 4,
 "nbformat_minor": 2
}
